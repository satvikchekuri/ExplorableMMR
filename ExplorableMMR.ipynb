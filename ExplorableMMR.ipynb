{
  "nbformat": 4,
  "nbformat_minor": 0,
  "metadata": {
    "colab": {
      "name": "ExplorableMMR.ipynb",
      "provenance": [],
      "collapsed_sections": [
        "N-f451zc8JeV"
      ],
      "mount_file_id": "14D3k-VV0bgOZFTIt9Sj_oblXqM846pnJ",
      "authorship_tag": "ABX9TyMDCeWvqwVsEmqO64tpcIgW",
      "include_colab_link": true
    },
    "kernelspec": {
      "name": "python3",
      "display_name": "Python 3"
    },
    "language_info": {
      "name": "python"
    },
    "widgets": {
      "application/vnd.jupyter.widget-state+json": {
        "5b3a92aa955b4f4fb31873b78e88769e": {
          "model_module": "@jupyter-widgets/controls",
          "model_name": "FloatSliderModel",
          "model_module_version": "1.5.0",
          "state": {
            "_view_name": "FloatSliderView",
            "style": "IPY_MODEL_b3de29c12cb041dc828a64d14a617d53",
            "_dom_classes": [],
            "description": "",
            "step": 0.1,
            "_model_name": "FloatSliderModel",
            "orientation": "horizontal",
            "max": 1,
            "_view_module": "@jupyter-widgets/controls",
            "_model_module_version": "1.5.0",
            "value": 0.5,
            "_view_count": null,
            "disabled": false,
            "_view_module_version": "1.5.0",
            "min": 0.1,
            "continuous_update": false,
            "readout_format": ".1f",
            "description_tooltip": null,
            "readout": true,
            "_model_module": "@jupyter-widgets/controls",
            "layout": "IPY_MODEL_75348d1acffd4fc198f56c0d5a2765f9"
          }
        },
        "b3de29c12cb041dc828a64d14a617d53": {
          "model_module": "@jupyter-widgets/controls",
          "model_name": "SliderStyleModel",
          "model_module_version": "1.5.0",
          "state": {
            "_view_name": "StyleView",
            "handle_color": null,
            "_model_name": "SliderStyleModel",
            "description_width": "",
            "_view_module": "@jupyter-widgets/base",
            "_model_module_version": "1.5.0",
            "_view_count": null,
            "_view_module_version": "1.2.0",
            "_model_module": "@jupyter-widgets/controls"
          }
        },
        "75348d1acffd4fc198f56c0d5a2765f9": {
          "model_module": "@jupyter-widgets/base",
          "model_name": "LayoutModel",
          "model_module_version": "1.2.0",
          "state": {
            "_view_name": "LayoutView",
            "grid_template_rows": null,
            "right": null,
            "justify_content": null,
            "_view_module": "@jupyter-widgets/base",
            "overflow": null,
            "_model_module_version": "1.2.0",
            "_view_count": null,
            "flex_flow": null,
            "width": null,
            "min_width": null,
            "border": null,
            "align_items": null,
            "bottom": null,
            "_model_module": "@jupyter-widgets/base",
            "top": null,
            "grid_column": null,
            "overflow_y": null,
            "overflow_x": null,
            "grid_auto_flow": null,
            "grid_area": null,
            "grid_template_columns": null,
            "flex": null,
            "_model_name": "LayoutModel",
            "justify_items": null,
            "grid_row": null,
            "max_height": null,
            "align_content": null,
            "visibility": null,
            "align_self": null,
            "height": null,
            "min_height": null,
            "padding": null,
            "grid_auto_rows": null,
            "grid_gap": null,
            "max_width": null,
            "order": null,
            "_view_module_version": "1.2.0",
            "grid_template_areas": null,
            "object_position": null,
            "object_fit": null,
            "grid_auto_columns": null,
            "margin": null,
            "display": null,
            "left": null
          }
        }
      }
    }
  },
  "cells": [
    {
      "cell_type": "markdown",
      "metadata": {
        "id": "view-in-github",
        "colab_type": "text"
      },
      "source": [
        "<a href=\"https://colab.research.google.com/github/satvikchekuri/ExplorableMMR/blob/main/ExplorableMMR.ipynb\" target=\"_parent\"><img src=\"https://colab.research.google.com/assets/colab-badge.svg\" alt=\"Open In Colab\"/></a>"
      ]
    },
    {
      "cell_type": "markdown",
      "metadata": {
        "id": "BAKCGznF3TiE"
      },
      "source": [
        "#**Interactive Text Summary using Explorable MMR**"
      ]
    },
    {
      "cell_type": "markdown",
      "metadata": {
        "id": "pFLiGk1SYSj8"
      },
      "source": [
        "## **CS6724: Human AI Interaction**\n",
        "## *Yuan Li, Daniel Manesh, Syed Muhammad Farhan, and Satvik Chekuri*"
      ]
    },
    {
      "cell_type": "markdown",
      "metadata": {
        "id": "g6-Y-1V9XNyr"
      },
      "source": [
        "Importing python libraries that are used in this work"
      ]
    },
    {
      "cell_type": "code",
      "metadata": {
        "id": "M9fQ3y4W6W-r",
        "cellView": "form"
      },
      "source": [
        "#@title\n",
        "import nltk\n",
        "import os\n",
        "import math\n",
        "import string\n",
        "import re\n",
        "import json\n",
        "from rake_nltk import Metric, Rake\n",
        "from nltk.corpus import stopwords\n",
        "from ipywidgets import widgets, interact\n",
        "from IPython.display import display"
      ],
      "execution_count": 308,
      "outputs": []
    },
    {
      "cell_type": "markdown",
      "metadata": {
        "id": "xREZg9E4sj16"
      },
      "source": [
        "### Enter File Path below"
      ]
    },
    {
      "cell_type": "code",
      "metadata": {
        "id": "nsMWiwLAsppy"
      },
      "source": [
        "input_file_path = '/content/drive/MyDrive/Colab Notebooks/COVIDVaccine_article.txt'"
      ],
      "execution_count": 165,
      "outputs": []
    },
    {
      "cell_type": "markdown",
      "metadata": {
        "id": "ia449nImsP--"
      },
      "source": [
        "## Top words recommended by the system to form a Query"
      ]
    },
    {
      "cell_type": "code",
      "metadata": {
        "colab": {
          "base_uri": "https://localhost:8080/",
          "height": 542
        },
        "id": "jT9JVjH5rYFA",
        "cellView": "form",
        "outputId": "b9f794b0-3283-46aa-8da6-ffc1cecbb1dc"
      },
      "source": [
        "#@title\n",
        "import plotly.graph_objects as go\n",
        "import pandas as pd\n",
        "from nltk.corpus import stopwords\n",
        "\n",
        "lines=[]\n",
        "\n",
        "lines = lines + returnLines(input_file_path)\n",
        "stop_words = set(stopwords.words('english'))\n",
        "query2 = rakeQuery(lines)\n",
        "wrd = []\n",
        "scr = []\n",
        "for rt in query2:\n",
        "  if rt.isalnum() and (not rt.isdigit()) and len(rt) > 3 and (not rt in stop_words):\n",
        "    wrd.append(rt)\n",
        "    scr.append(query2[rt])\n",
        "df = pd.DataFrame()\n",
        "df['word'] = wrd\n",
        "df['score'] = scr\n",
        "df = df.sort_values(by=['score'], ascending=False)\n",
        "fig = go.Figure(data=[go.Table(header=dict(values=['Word', 'Frequency']),\n",
        "                 cells=dict(values=[df.word,df.score]))\n",
        "                     ])\n",
        "fig.show()"
      ],
      "execution_count": 404,
      "outputs": [
        {
          "output_type": "display_data",
          "data": {
            "text/html": [
              "<html>\n",
              "<head><meta charset=\"utf-8\" /></head>\n",
              "<body>\n",
              "    <div>\n",
              "            <script src=\"https://cdnjs.cloudflare.com/ajax/libs/mathjax/2.7.5/MathJax.js?config=TeX-AMS-MML_SVG\"></script><script type=\"text/javascript\">if (window.MathJax) {MathJax.Hub.Config({SVG: {font: \"STIX-Web\"}});}</script>\n",
              "                <script type=\"text/javascript\">window.PlotlyConfig = {MathJaxConfig: 'local'};</script>\n",
              "        <script src=\"https://cdn.plot.ly/plotly-latest.min.js\"></script>    \n",
              "            <div id=\"45115104-4377-4418-b6cd-4212a44b5181\" class=\"plotly-graph-div\" style=\"height:525px; width:100%;\"></div>\n",
              "            <script type=\"text/javascript\">\n",
              "                \n",
              "                    window.PLOTLYENV=window.PLOTLYENV || {};\n",
              "                    \n",
              "                if (document.getElementById(\"45115104-4377-4418-b6cd-4212a44b5181\")) {\n",
              "                    Plotly.newPlot(\n",
              "                        '45115104-4377-4418-b6cd-4212a44b5181',\n",
              "                        [{\"cells\": {\"values\": [[\"johnson\", \"vaccine\", \"booster\", \"said\", \"moderna\", \"recipients\", \"health\", \"pfizer\", \"boosters\", \"shot\", \"administration\", \"dose\", \"could\", \"might\", \"officials\", \"vaccines\", \"shots\", \"state\", \"study\", \"week\", \"biontech\", \"different\", \"approach\", \"drug\", \"food\", \"committee\", \"providers\", \"levels\", \"expert\", \"match\", \"people\", \"expected\", \"presented\", \"authorize\", \"government\", \"last\", \"least\", \"data\", \"received\", \"also\", \"panel\", \"findings\", \"measure\", \"regulators\", \"advisory\", \"antibody\", \"researchers\", \"eligible\", \"months\", \"official\", \"friday\", \"receive\", \"americans\", \"agency\", \"million\", \"initially\", \"flexibility\", \"second\", \"important\", \"scientists\", \"immune\", \"allow\", \"medical\", \"groups\", \"disease\", \"take\", \"experts\", \"warned\", \"suggested\", \"covid\", \"issue\", \"half\", \"better\", \"going\", \"member\", \"need\", \"little\", \"perspective\", \"high\", \"patient\", \"initial\", \"headed\", \"supply\", \"university\", \"offit\", \"like\", \"association\", \"territorial\", \"planning\", \"greater\", \"doses\", \"move\", \"term\", \"compared\", \"sunday\", \"using\", \"discretion\", \"offer\", \"another\", \"found\", \"recommend\", \"extra\", \"federal\", \"authorized\", \"month\", \"weeks\", \"voted\", \"president\", \"third\", \"around\", \"option\", \"others\", \"nirav\", \"shah\", \"maine\", \"convenience\", \"leeway\", \"unanimously\", \"believe\", \"clay\", \"marsh\", \"permissive\", \"west\", \"prefer\", \"virginia\", \"czar\", \"dosage\", \"language\", \"fully\", \"secretaries\", \"heard\", \"clear\", \"infectious\", \"fauci\", \"situations\", \"individuals\", \"amanda\", \"cohn\", \"toward\", \"ranking\", \"require\", \"granting\", \"separated\", \"follow\", \"took\", \"anthony\", \"first\", \"arguing\", \"strictly\", \"bound\", \"reasons\", \"choice\", \"switching\", \"thing\", \"ease\", \"local\", \"streamline\", \"risk\", \"person\", \"want\", \"advantage\", \"options\", \"lead\", \"confusion\", \"older\", \"become\", \"otherwise\", \"originally\", \"considered\", \"following\", \"impetus\", \"either\", \"eligibility\", \"public\", \"jeannette\", \"biostatistician\", \"products\", \"original\", \"arkansas\", \"sciences\", \"switch\", \"allowing\", \"audience\", \"type\", \"captive\", \"officer\", \"states\", \"news\", \"departments\", \"unclear\", \"community\", \"remains\", \"site\", \"long\", \"care\", \"degree\", \"facility\", \"start\", \"providing\", \"inefficient\", \"show\", \"somewhere\", \"marcus\", \"plescia\", \"messaging\", \"publicly\", \"chief\", \"terms\", \"messy\", \"requirements\", \"thin\", \"told\", \"although\", \"centers\", \"control\", \"prevention\", \"thursday\", \"recommendations\", \"tens\", \"millions\", \"conducted\", \"national\", \"institutes\", \"benefit\", \"raised\", \"much\", \"wharton\", \"tested\", \"full\", \"considering\", \"whether\", \"emphasized\", \"based\", \"small\", \"volunteers\", \"short\", \"response\", \"calculated\", \"part\", \"evening\", \"wednesday\", \"number\", \"expand\", \"reduce\", \"appeal\", \"provide\", \"doctors\", \"vaccinators\", \"would\", \"note\", \"possible\", \"preferable\", \"familiar\", \"brand\", \"freedom\", \"requesting\", \"foreshadowed\", \"federally\", \"funded\", \"advises\", \"single\", \"rise\", \"fold\", \"days\", \"fourfold\", \"increase\", \"aiming\", \"greatly\", \"preliminary\", \"cells\", \"primed\", \"looks\", \"director\", \"education\", \"center\", \"children\", \"hospital\", \"philadelphia\", \"think\", \"quickly\", \"already\", \"happening\", \"meeting\", \"argued\", \"needed\", \"latitude\", \"patients\", \"adverse\", \"reactions\", \"concerns\", \"access\", \"cover\", \"cost\", \"authorizes\", \"reiterate\", \"programmatic\", \"melinda\", \"paul\", \"certainly\", \"attack\", \"look\", \"coronavirus\", \"success\", \"conclude\", \"combination\", \"powered\", \"designed\", \"compare\", \"kirsten\", \"lyke\", \"professor\", \"maryland\", \"school\", \"medicine\", \"research\", \"mixing\", \"matching\", \"somewhat\", \"even\", \"strongly\", \"criticized\", \"biden\", \"policy\", \"given\", \"campaign\", \"ramps\", \"vaccinated\"], [26, 23, 16, 13, 13, 11, 9, 9, 8, 8, 8, 7, 7, 7, 7, 6, 6, 6, 6, 6, 5, 5, 5, 5, 5, 4, 4, 4, 4, 4, 4, 4, 4, 4, 4, 4, 4, 4, 4, 4, 3, 3, 3, 3, 3, 3, 3, 3, 3, 3, 3, 3, 3, 3, 3, 3, 3, 2, 2, 2, 2, 2, 2, 2, 2, 2, 2, 2, 2, 2, 2, 2, 2, 2, 2, 2, 2, 2, 2, 2, 2, 2, 2, 2, 2, 2, 2, 2, 2, 2, 2, 2, 2, 2, 2, 2, 2, 2, 2, 2, 2, 2, 2, 2, 2, 2, 1, 1, 1, 1, 1, 1, 1, 1, 1, 1, 1, 1, 1, 1, 1, 1, 1, 1, 1, 1, 1, 1, 1, 1, 1, 1, 1, 1, 1, 1, 1, 1, 1, 1, 1, 1, 1, 1, 1, 1, 1, 1, 1, 1, 1, 1, 1, 1, 1, 1, 1, 1, 1, 1, 1, 1, 1, 1, 1, 1, 1, 1, 1, 1, 1, 1, 1, 1, 1, 1, 1, 1, 1, 1, 1, 1, 1, 1, 1, 1, 1, 1, 1, 1, 1, 1, 1, 1, 1, 1, 1, 1, 1, 1, 1, 1, 1, 1, 1, 1, 1, 1, 1, 1, 1, 1, 1, 1, 1, 1, 1, 1, 1, 1, 1, 1, 1, 1, 1, 1, 1, 1, 1, 1, 1, 1, 1, 1, 1, 1, 1, 1, 1, 1, 1, 1, 1, 1, 1, 1, 1, 1, 1, 1, 1, 1, 1, 1, 1, 1, 1, 1, 1, 1, 1, 1, 1, 1, 1, 1, 1, 1, 1, 1, 1, 1, 1, 1, 1, 1, 1, 1, 1, 1, 1, 1, 1, 1, 1, 1, 1, 1, 1, 1, 1, 1, 1, 1, 1, 1, 1, 1, 1, 1, 1, 1, 1, 1, 1, 1, 1, 1, 1, 1, 1, 1, 1, 1, 1, 1, 1, 1, 1, 1, 1, 1, 1, 1, 1, 1, 1]]}, \"header\": {\"values\": [\"Word\", \"Frequency\"]}, \"type\": \"table\"}],\n",
              "                        {\"template\": {\"data\": {\"bar\": [{\"error_x\": {\"color\": \"#2a3f5f\"}, \"error_y\": {\"color\": \"#2a3f5f\"}, \"marker\": {\"line\": {\"color\": \"#E5ECF6\", \"width\": 0.5}}, \"type\": \"bar\"}], \"barpolar\": [{\"marker\": {\"line\": {\"color\": \"#E5ECF6\", \"width\": 0.5}}, \"type\": \"barpolar\"}], \"carpet\": [{\"aaxis\": {\"endlinecolor\": \"#2a3f5f\", \"gridcolor\": \"white\", \"linecolor\": \"white\", \"minorgridcolor\": \"white\", \"startlinecolor\": \"#2a3f5f\"}, \"baxis\": {\"endlinecolor\": \"#2a3f5f\", \"gridcolor\": \"white\", \"linecolor\": \"white\", \"minorgridcolor\": \"white\", \"startlinecolor\": \"#2a3f5f\"}, \"type\": \"carpet\"}], \"choropleth\": [{\"colorbar\": {\"outlinewidth\": 0, \"ticks\": \"\"}, \"type\": \"choropleth\"}], \"contour\": [{\"colorbar\": {\"outlinewidth\": 0, \"ticks\": \"\"}, \"colorscale\": [[0.0, \"#0d0887\"], [0.1111111111111111, \"#46039f\"], [0.2222222222222222, \"#7201a8\"], [0.3333333333333333, \"#9c179e\"], [0.4444444444444444, \"#bd3786\"], [0.5555555555555556, \"#d8576b\"], [0.6666666666666666, \"#ed7953\"], [0.7777777777777778, \"#fb9f3a\"], [0.8888888888888888, \"#fdca26\"], [1.0, \"#f0f921\"]], \"type\": \"contour\"}], \"contourcarpet\": [{\"colorbar\": {\"outlinewidth\": 0, \"ticks\": \"\"}, \"type\": \"contourcarpet\"}], \"heatmap\": [{\"colorbar\": {\"outlinewidth\": 0, \"ticks\": \"\"}, \"colorscale\": [[0.0, \"#0d0887\"], [0.1111111111111111, \"#46039f\"], [0.2222222222222222, \"#7201a8\"], [0.3333333333333333, \"#9c179e\"], [0.4444444444444444, \"#bd3786\"], [0.5555555555555556, \"#d8576b\"], [0.6666666666666666, \"#ed7953\"], [0.7777777777777778, \"#fb9f3a\"], [0.8888888888888888, \"#fdca26\"], [1.0, \"#f0f921\"]], \"type\": \"heatmap\"}], \"heatmapgl\": [{\"colorbar\": {\"outlinewidth\": 0, \"ticks\": \"\"}, \"colorscale\": [[0.0, \"#0d0887\"], [0.1111111111111111, \"#46039f\"], [0.2222222222222222, \"#7201a8\"], [0.3333333333333333, \"#9c179e\"], [0.4444444444444444, \"#bd3786\"], [0.5555555555555556, \"#d8576b\"], [0.6666666666666666, \"#ed7953\"], [0.7777777777777778, \"#fb9f3a\"], [0.8888888888888888, \"#fdca26\"], [1.0, \"#f0f921\"]], \"type\": \"heatmapgl\"}], \"histogram\": [{\"marker\": {\"colorbar\": {\"outlinewidth\": 0, \"ticks\": \"\"}}, \"type\": \"histogram\"}], \"histogram2d\": [{\"colorbar\": {\"outlinewidth\": 0, \"ticks\": \"\"}, \"colorscale\": [[0.0, \"#0d0887\"], [0.1111111111111111, \"#46039f\"], [0.2222222222222222, \"#7201a8\"], [0.3333333333333333, \"#9c179e\"], [0.4444444444444444, \"#bd3786\"], [0.5555555555555556, \"#d8576b\"], [0.6666666666666666, \"#ed7953\"], [0.7777777777777778, \"#fb9f3a\"], [0.8888888888888888, \"#fdca26\"], [1.0, \"#f0f921\"]], \"type\": \"histogram2d\"}], \"histogram2dcontour\": [{\"colorbar\": {\"outlinewidth\": 0, \"ticks\": \"\"}, \"colorscale\": [[0.0, \"#0d0887\"], [0.1111111111111111, \"#46039f\"], [0.2222222222222222, \"#7201a8\"], [0.3333333333333333, \"#9c179e\"], [0.4444444444444444, \"#bd3786\"], [0.5555555555555556, \"#d8576b\"], [0.6666666666666666, \"#ed7953\"], [0.7777777777777778, \"#fb9f3a\"], [0.8888888888888888, \"#fdca26\"], [1.0, \"#f0f921\"]], \"type\": \"histogram2dcontour\"}], \"mesh3d\": [{\"colorbar\": {\"outlinewidth\": 0, \"ticks\": \"\"}, \"type\": \"mesh3d\"}], \"parcoords\": [{\"line\": {\"colorbar\": {\"outlinewidth\": 0, \"ticks\": \"\"}}, \"type\": \"parcoords\"}], \"pie\": [{\"automargin\": true, \"type\": \"pie\"}], \"scatter\": [{\"marker\": {\"colorbar\": {\"outlinewidth\": 0, \"ticks\": \"\"}}, \"type\": \"scatter\"}], \"scatter3d\": [{\"line\": {\"colorbar\": {\"outlinewidth\": 0, \"ticks\": \"\"}}, \"marker\": {\"colorbar\": {\"outlinewidth\": 0, \"ticks\": \"\"}}, \"type\": \"scatter3d\"}], \"scattercarpet\": [{\"marker\": {\"colorbar\": {\"outlinewidth\": 0, \"ticks\": \"\"}}, \"type\": \"scattercarpet\"}], \"scattergeo\": [{\"marker\": {\"colorbar\": {\"outlinewidth\": 0, \"ticks\": \"\"}}, \"type\": \"scattergeo\"}], \"scattergl\": [{\"marker\": {\"colorbar\": {\"outlinewidth\": 0, \"ticks\": \"\"}}, \"type\": \"scattergl\"}], \"scattermapbox\": [{\"marker\": {\"colorbar\": {\"outlinewidth\": 0, \"ticks\": \"\"}}, \"type\": \"scattermapbox\"}], \"scatterpolar\": [{\"marker\": {\"colorbar\": {\"outlinewidth\": 0, \"ticks\": \"\"}}, \"type\": \"scatterpolar\"}], \"scatterpolargl\": [{\"marker\": {\"colorbar\": {\"outlinewidth\": 0, \"ticks\": \"\"}}, \"type\": \"scatterpolargl\"}], \"scatterternary\": [{\"marker\": {\"colorbar\": {\"outlinewidth\": 0, \"ticks\": \"\"}}, \"type\": \"scatterternary\"}], \"surface\": [{\"colorbar\": {\"outlinewidth\": 0, \"ticks\": \"\"}, \"colorscale\": [[0.0, \"#0d0887\"], [0.1111111111111111, \"#46039f\"], [0.2222222222222222, \"#7201a8\"], [0.3333333333333333, \"#9c179e\"], [0.4444444444444444, \"#bd3786\"], [0.5555555555555556, \"#d8576b\"], [0.6666666666666666, \"#ed7953\"], [0.7777777777777778, \"#fb9f3a\"], [0.8888888888888888, \"#fdca26\"], [1.0, \"#f0f921\"]], \"type\": \"surface\"}], \"table\": [{\"cells\": {\"fill\": {\"color\": \"#EBF0F8\"}, \"line\": {\"color\": \"white\"}}, \"header\": {\"fill\": {\"color\": \"#C8D4E3\"}, \"line\": {\"color\": \"white\"}}, \"type\": \"table\"}]}, \"layout\": {\"annotationdefaults\": {\"arrowcolor\": \"#2a3f5f\", \"arrowhead\": 0, \"arrowwidth\": 1}, \"coloraxis\": {\"colorbar\": {\"outlinewidth\": 0, \"ticks\": \"\"}}, \"colorscale\": {\"diverging\": [[0, \"#8e0152\"], [0.1, \"#c51b7d\"], [0.2, \"#de77ae\"], [0.3, \"#f1b6da\"], [0.4, \"#fde0ef\"], [0.5, \"#f7f7f7\"], [0.6, \"#e6f5d0\"], [0.7, \"#b8e186\"], [0.8, \"#7fbc41\"], [0.9, \"#4d9221\"], [1, \"#276419\"]], \"sequential\": [[0.0, \"#0d0887\"], [0.1111111111111111, \"#46039f\"], [0.2222222222222222, \"#7201a8\"], [0.3333333333333333, \"#9c179e\"], [0.4444444444444444, \"#bd3786\"], [0.5555555555555556, \"#d8576b\"], [0.6666666666666666, \"#ed7953\"], [0.7777777777777778, \"#fb9f3a\"], [0.8888888888888888, \"#fdca26\"], [1.0, \"#f0f921\"]], \"sequentialminus\": [[0.0, \"#0d0887\"], [0.1111111111111111, \"#46039f\"], [0.2222222222222222, \"#7201a8\"], [0.3333333333333333, \"#9c179e\"], [0.4444444444444444, \"#bd3786\"], [0.5555555555555556, \"#d8576b\"], [0.6666666666666666, \"#ed7953\"], [0.7777777777777778, \"#fb9f3a\"], [0.8888888888888888, \"#fdca26\"], [1.0, \"#f0f921\"]]}, \"colorway\": [\"#636efa\", \"#EF553B\", \"#00cc96\", \"#ab63fa\", \"#FFA15A\", \"#19d3f3\", \"#FF6692\", \"#B6E880\", \"#FF97FF\", \"#FECB52\"], \"font\": {\"color\": \"#2a3f5f\"}, \"geo\": {\"bgcolor\": \"white\", \"lakecolor\": \"white\", \"landcolor\": \"#E5ECF6\", \"showlakes\": true, \"showland\": true, \"subunitcolor\": \"white\"}, \"hoverlabel\": {\"align\": \"left\"}, \"hovermode\": \"closest\", \"mapbox\": {\"style\": \"light\"}, \"paper_bgcolor\": \"white\", \"plot_bgcolor\": \"#E5ECF6\", \"polar\": {\"angularaxis\": {\"gridcolor\": \"white\", \"linecolor\": \"white\", \"ticks\": \"\"}, \"bgcolor\": \"#E5ECF6\", \"radialaxis\": {\"gridcolor\": \"white\", \"linecolor\": \"white\", \"ticks\": \"\"}}, \"scene\": {\"xaxis\": {\"backgroundcolor\": \"#E5ECF6\", \"gridcolor\": \"white\", \"gridwidth\": 2, \"linecolor\": \"white\", \"showbackground\": true, \"ticks\": \"\", \"zerolinecolor\": \"white\"}, \"yaxis\": {\"backgroundcolor\": \"#E5ECF6\", \"gridcolor\": \"white\", \"gridwidth\": 2, \"linecolor\": \"white\", \"showbackground\": true, \"ticks\": \"\", \"zerolinecolor\": \"white\"}, \"zaxis\": {\"backgroundcolor\": \"#E5ECF6\", \"gridcolor\": \"white\", \"gridwidth\": 2, \"linecolor\": \"white\", \"showbackground\": true, \"ticks\": \"\", \"zerolinecolor\": \"white\"}}, \"shapedefaults\": {\"line\": {\"color\": \"#2a3f5f\"}}, \"ternary\": {\"aaxis\": {\"gridcolor\": \"white\", \"linecolor\": \"white\", \"ticks\": \"\"}, \"baxis\": {\"gridcolor\": \"white\", \"linecolor\": \"white\", \"ticks\": \"\"}, \"bgcolor\": \"#E5ECF6\", \"caxis\": {\"gridcolor\": \"white\", \"linecolor\": \"white\", \"ticks\": \"\"}}, \"title\": {\"x\": 0.05}, \"xaxis\": {\"automargin\": true, \"gridcolor\": \"white\", \"linecolor\": \"white\", \"ticks\": \"\", \"title\": {\"standoff\": 15}, \"zerolinecolor\": \"white\", \"zerolinewidth\": 2}, \"yaxis\": {\"automargin\": true, \"gridcolor\": \"white\", \"linecolor\": \"white\", \"ticks\": \"\", \"title\": {\"standoff\": 15}, \"zerolinecolor\": \"white\", \"zerolinewidth\": 2}}}},\n",
              "                        {\"responsive\": true}\n",
              "                    ).then(function(){\n",
              "                            \n",
              "var gd = document.getElementById('45115104-4377-4418-b6cd-4212a44b5181');\n",
              "var x = new MutationObserver(function (mutations, observer) {{\n",
              "        var display = window.getComputedStyle(gd).display;\n",
              "        if (!display || display === 'none') {{\n",
              "            console.log([gd, 'removed!']);\n",
              "            Plotly.purge(gd);\n",
              "            observer.disconnect();\n",
              "        }}\n",
              "}});\n",
              "\n",
              "// Listen for the removal of the full notebook cells\n",
              "var notebookContainer = gd.closest('#notebook-container');\n",
              "if (notebookContainer) {{\n",
              "    x.observe(notebookContainer, {childList: true});\n",
              "}}\n",
              "\n",
              "// Listen for the clearing of the current output cell\n",
              "var outputEl = gd.closest('.output');\n",
              "if (outputEl) {{\n",
              "    x.observe(outputEl, {childList: true});\n",
              "}}\n",
              "\n",
              "                        })\n",
              "                };\n",
              "                \n",
              "            </script>\n",
              "        </div>\n",
              "</body>\n",
              "</html>"
            ]
          },
          "metadata": {}
        }
      ]
    },
    {
      "cell_type": "markdown",
      "metadata": {
        "id": "_V1IWVD1VX59"
      },
      "source": [
        "## Input Query"
      ]
    },
    {
      "cell_type": "code",
      "metadata": {
        "colab": {
          "base_uri": "https://localhost:8080/"
        },
        "id": "FPpl2fAtrEcA",
        "outputId": "c4e5adc8-7fa5-4e11-de4c-5265452da302"
      },
      "source": [
        "input_query = input()"
      ],
      "execution_count": 167,
      "outputs": [
        {
          "name": "stdout",
          "output_type": "stream",
          "text": [
            "moderna\n"
          ]
        }
      ]
    },
    {
      "cell_type": "markdown",
      "metadata": {
        "id": "mzpQULTbVO1Y"
      },
      "source": [
        "## Select Lambda"
      ]
    },
    {
      "cell_type": "code",
      "metadata": {
        "colab": {
          "base_uri": "https://localhost:8080/",
          "height": 49,
          "referenced_widgets": [
            "5b3a92aa955b4f4fb31873b78e88769e",
            "b3de29c12cb041dc828a64d14a617d53",
            "75348d1acffd4fc198f56c0d5a2765f9"
          ]
        },
        "cellView": "form",
        "id": "XGDd1kjhVNF8",
        "outputId": "1fa71715-e31e-46c1-c38f-dbc7507a176e"
      },
      "source": [
        "#@title\n",
        "slider = widgets.FloatSlider(\n",
        "    value=0.5,\n",
        "    min=0.1,\n",
        "    max=1,\n",
        "    step=0.1,\n",
        "    disabled=False,\n",
        "    continuous_update=False,\n",
        "    orientation='horizontal',\n",
        "    readout=True,\n",
        "    readout_format='.1f',\n",
        ")\n",
        "display(slider)"
      ],
      "execution_count": 405,
      "outputs": [
        {
          "output_type": "display_data",
          "data": {
            "application/vnd.jupyter.widget-view+json": {
              "model_id": "5b3a92aa955b4f4fb31873b78e88769e",
              "version_minor": 0,
              "version_major": 2
            },
            "text/plain": [
              "FloatSlider(value=0.5, continuous_update=False, max=1.0, min=0.1, readout_format='.1f')"
            ]
          },
          "metadata": {}
        }
      ]
    },
    {
      "cell_type": "markdown",
      "metadata": {
        "id": "9qULmKHHVjrL"
      },
      "source": [
        "## Enter the selected summary sentence"
      ]
    },
    {
      "cell_type": "code",
      "metadata": {
        "colab": {
          "base_uri": "https://localhost:8080/"
        },
        "id": "wre0VPKHVpyR",
        "outputId": "bd8da34e-885b-46f9-f5a3-88ea83cf5f78"
      },
      "source": [
        "bsent = input()\n",
        "# Example: Both Moderna and Pfizer require two initial doses, separated by about a month."
      ],
      "execution_count": 407,
      "outputs": [
        {
          "name": "stdout",
          "output_type": "stream",
          "text": [
            "Both Moderna and Pfizer require two initial doses, separated by about a month.\n"
          ]
        }
      ]
    },
    {
      "cell_type": "markdown",
      "metadata": {
        "id": "gvTpkZ-MWmlj"
      },
      "source": [
        "# Run MMR Ranking"
      ]
    },
    {
      "cell_type": "code",
      "metadata": {
        "colab": {
          "base_uri": "https://localhost:8080/",
          "height": 542
        },
        "id": "JnWbas58Wp8H",
        "outputId": "95fb7725-1d8e-4609-8c3d-4b204be50866"
      },
      "source": [
        "#---------------------------------------------------------------------------------\n",
        "# Description\t: Code block that runs individual functions required to compute the MMR Score\n",
        "# Outputs \t\t: Table with sentences and their related scores computed by MMR\n",
        "#---------------------------------------------------------------------------------\n",
        "sentences = []\n",
        "lines=[]\n",
        "queryWords = []\n",
        "\n",
        "sentences = sentences + processFile(input_file_path)\n",
        "lines = lines + returnLines(input_file_path)\n",
        "linestring = \" \"\n",
        "for line in lines:\n",
        "    linestring = linestring + \" \" + line + \" \"\n",
        "sen_len = len(linestring)\n",
        "# calculate TF, IDF and TF-IDF scores\n",
        "IDF_w \t\t= IDFs(sentences)\n",
        "TF_IDF_w \t= TF_IDF(sentences)\n",
        "\n",
        "# build query; set the number of words to include in our query\n",
        "queryWords.append(input_query)\n",
        "query = sentence(\"query\", queryWords, queryWords)\n",
        "\n",
        "# pick a sentence that best matches the query\n",
        "bstsen = 'Both Moderna and Pfizer require two initial doses, separated by about a month.'\n",
        "if len(bsent) <1:\n",
        "  best1sentence = bsent\n",
        "else: \n",
        "  best1sentence = bestSenPrep(bsent)[0]\n",
        "# build summary by adding more relevant sentences\n",
        "summary = makeSummary(sentences, best1sentence, query, 0.01 * sen_len, slider.value, IDF_w)"
      ],
      "execution_count": 411,
      "outputs": [
        {
          "output_type": "display_data",
          "data": {
            "text/html": [
              "<html>\n",
              "<head><meta charset=\"utf-8\" /></head>\n",
              "<body>\n",
              "    <div>\n",
              "            <script src=\"https://cdnjs.cloudflare.com/ajax/libs/mathjax/2.7.5/MathJax.js?config=TeX-AMS-MML_SVG\"></script><script type=\"text/javascript\">if (window.MathJax) {MathJax.Hub.Config({SVG: {font: \"STIX-Web\"}});}</script>\n",
              "                <script type=\"text/javascript\">window.PlotlyConfig = {MathJaxConfig: 'local'};</script>\n",
              "        <script src=\"https://cdn.plot.ly/plotly-latest.min.js\"></script>    \n",
              "            <div id=\"2b9dd156-2802-42fc-8ba1-672509f83cb5\" class=\"plotly-graph-div\" style=\"height:525px; width:100%;\"></div>\n",
              "            <script type=\"text/javascript\">\n",
              "                \n",
              "                    window.PLOTLYENV=window.PLOTLYENV || {};\n",
              "                    \n",
              "                if (document.getElementById(\"2b9dd156-2802-42fc-8ba1-672509f83cb5\")) {\n",
              "                    Plotly.newPlot(\n",
              "                        '2b9dd156-2802-42fc-8ba1-672509f83cb5',\n",
              "                        [{\"cells\": {\"align\": \"left\", \"values\": [[\"Both Moderna and Pfizer require two initial doses, separated by about a month.\", \"Johnson & Johnson is headed for a booster shot of its vaccine at least two months after the first dose.\", \"The agency last month authorized booster shots of the Pfizer-BioNTech vaccine for at least six months after the second dose.\", \"Regulators are expected to follow the same approach they took with Pfizer\\u2019s vaccine and authorize a booster of Moderna\\u2019s vaccine about six months after the second shot.\", \"Providers also might not have access to a vaccine a patient initially received, they said.\", \"By the end of the week, tens of millions more Americans could be eligible for extra shots.\", \"\\u201cWhen you have a captive audience, you want to take advantage of that.\\u201d Yet more options could lead to more confusion about booster shots, some experts have said.\", \"The Food and Drug Administration is planning to allow Americans to receive a different Covid-19 vaccine as a booster than the one they initially received, a move that could reduce the appeal of the Johnson & Johnson vaccine and provide flexibility to doctors and other vaccinators.\", \"State health officials have been arguing for weeks that recipients of booster shots should not be strictly bound to the vaccine they initially received, for reasons such as supply, patient choice and ease of administration.\", \"officials argued that providers needed latitude to offer different vaccines as boosters because patients might have had adverse reactions after their initial shots or presented other new concerns.\", \"\\u201cThe impetus for states and local health departments was that if they were going to go out to a community site or long-term care facility and start providing boosters, it was a little inefficient to show up somewhere and say, \\u2018We\\u2019re just doing the people who got Pfizer,\\u2019\\u201d said Dr. Marcus Plescia, the chief medical officer for the Association of State and Territorial Health Officials.\", \"While the research on mixing and matching doses is somewhat thin, even some scientists who have strongly criticized the Biden administration\\u2019s booster policy said that providers should be given a measure of discretion as the campaign ramps up.\", \"The Food and Drug Administration this week is expected to authorize boosters for all Johnson & Johnson recipients 18 and older.\", \"The approach was foreshadowed on Friday, when researchers presented the findings of a federally funded \\u201cmix and match\\u201d study to an expert committee that advises the Food and Drug Administration.\", \"1 thing I heard from state health secretaries was the need for permissive language around a mix-and-match approach,\\u201d said Dr. Nirav D. Shah, Maine\\u2019s top health official and the president of the Association of State and Territorial Health Officials.\", \"The federal government will cover the cost of a different vaccine as a booster only if the Food and Drug Administration authorizes the approach, officials said.\", \"Experts emphasized last week that the new data was based on small groups of volunteers and short-term findings.\", \"is expected to authorize boosters of the Moderna and Johnson & Johnson vaccines by Wednesday evening; it could allow the mix-and-match approach by then.\", \"The government would not recommend one shot over another, and it might note that using the same vaccine as a booster when possible is preferable, people familiar with the agency\\u2019s planning said.\", \"\\u201cI think we should move quickly on this, because it\\u2019s already happening.\\u201d At the meeting on Friday of the Food and Drug Administration\\u2019s expert panel, of which Dr. Offit is a member, top C.D.C.\", \"An advisory committee of the Centers for Disease Control and Prevention will take up the booster issue on Thursday; the agency will then issue its own recommendations.\", \"\\u201cFrom a public health perspective, there\\u2019s a clear need in some situations for individuals to receive a different vaccine,\\u201d said Dr. Amanda Cohn, another high-ranking C.D.C.\", \"\\u201cI\\u2019d like to reiterate how important it is from a programmatic perspective to have a little bit of flexibility,\\u201d Dr. Melinda Wharton, a top vaccine official at the C.D.C., told the F.D.A.\", \"But vaccine providers could use their discretion to offer a different brand, a freedom that state health officials have been requesting for weeks.\", \"\\u201cI believe there\\u2019s going to be a degree of flexibility of what a person who got the J.&J.\", \"The study \\u201cwas not powered or designed to compare between groups,\\u201d said Dr. Kirsten E. Lyke, a professor at the University of Maryland School of Medicine, who presented the data.\", \"Only antibody levels \\u2014 one measure of the immune response \\u2014 were calculated as part of the preliminary data, not the levels of immune cells primed to attack the coronavirus, which scientists say are also an important measure of a vaccine\\u2019s success.\", \"Dr. Anthony S. Fauci, the government\\u2019s top infectious disease expert, publicly suggested on Sunday that the government was headed toward granting greater leeway, at least for Johnson & Johnson recipients.\", \"originally can do, either with J.&J.\", \"Others said the option of switching vaccines could streamline the administration of boosters.\", \"The study\\u2019s researchers warned against using the findings to conclude that any one combination of vaccines was better.\", \"Federal regulators this week are aiming to greatly expand the number of Americans eligible for booster shots.\", \"But the only Moderna recipients who are expected to become eligible for boosters are those who are at least 65 or otherwise considered at high risk, following the same eligibility requirements for recipients of Pfizer-BioNTech\\u2019s vaccine.\", \"\\u201cIf you look at the data, it certainly looks like it might be better,\\u201d Dr. Paul A. Offit, the director of the Vaccine Education Center at Children\\u2019s Hospital of Philadelphia, said of Moderna or Pfizer boosters for Johnson & Johnson recipients.\", \"researchers tested a full dose of Moderna\\u2019s vaccine for a booster shot, but regulators are also considering whether to authorize a half dose.\", \"The study presented to the F.D.A.\\u2019s advisory panel last week, conducted by the National Institutes of Health, suggested that Johnson & Johnson recipients might benefit most from a booster shot of the Moderna vaccine.\", \"or with the mix-and-match from other products,\\u201d he said on \\u201cFox News Sunday.\\u201d Just over 15 million people have been fully vaccinated with Johnson & Johnson\\u2019s vaccine, compared with 69.5 million for Moderna\\u2019s and 104.5 million with Pfizer-BioNTech\\u2019s.\", \"Jeannette Y. Lee, a biostatistician at the University of Arkansas for Medical Sciences and a member of the F.D.A.\\u2019s expert committee, warned on Friday that allowing people to switch from their original vaccine type could be \\u201cvery, very messy in terms of the messaging.\\u201d It remains unclear what dosage of Moderna\\u2019s vaccine might be authorized for use as a booster for recipients of other vaccines.\", \"The study found that recipients of Johnson & Johnson\\u2019s single-dose shot who received a Moderna booster saw their antibody levels rise 76-fold in 15 days, compared with only a fourfold increase after an extra dose of Johnson & Johnson.\", \"Last week, the advisory committee voted unanimously to recommend that Moderna recipients receive a third shot of that vaccine as a booster, but at only half a dose.\", \"Dr. Clay Marsh, West Virginia\\u2019s Covid-19 czar, said the state had a greater supply of Moderna and Pfizer-BioNTech vaccines than of Johnson & Johnson\\u2019s, so officials there might prefer to use them for boosters out of convenience.\", \"A shot of the Pfizer-BioNTech vaccine also raised the antibody levels of Johnson & Johnson recipients more than Johnson & Johnson did, the study found, although not as much as Moderna did.\"], [-0.4296460866927002, -0.11996152091691348, -0.06906084063126061, -0.04389720878573615, -0.035835910614766424, -0.029764329496748808, -0.02358993208861115, -0.021941874422929213, -0.02171219201268577, -0.02052664524222412, -0.0163774763842622, -0.011515603721910142, -0.004008267302127458, -0.0029843300040928136, -0.0019864686876558254, -0.0018223797987735378, -0.0016905770048218482, -0.0014468171655052445, -0.0014269780899530409, -0.0012327181492674242, -0.0010963718952767315, -5.190861999274441e-05, -4.703088060440718e-05, -4.3713439613422806e-05, -4.261054826787389e-05, -1.5853851531753447e-05, -1.0446496672463976e-05, 0.0, 0.0, 0.0, 0.0, 0.0, 0.00033986561866260895, 0.011971658842983953, 0.018411165001963034, 0.02091746946282351, 0.02152654835515504, 0.023692776510527817, 0.02436597157436539, 0.03432442649541415, 0.03499106408687425, 0.0353142465404549]]}, \"columnwidth\": [360, 60], \"header\": {\"align\": \"left\", \"values\": [\"Sentence\", \"MMR Score\"]}, \"type\": \"table\"}],\n",
              "                        {\"template\": {\"data\": {\"bar\": [{\"error_x\": {\"color\": \"#2a3f5f\"}, \"error_y\": {\"color\": \"#2a3f5f\"}, \"marker\": {\"line\": {\"color\": \"#E5ECF6\", \"width\": 0.5}}, \"type\": \"bar\"}], \"barpolar\": [{\"marker\": {\"line\": {\"color\": \"#E5ECF6\", \"width\": 0.5}}, \"type\": \"barpolar\"}], \"carpet\": [{\"aaxis\": {\"endlinecolor\": \"#2a3f5f\", \"gridcolor\": \"white\", \"linecolor\": \"white\", \"minorgridcolor\": \"white\", \"startlinecolor\": \"#2a3f5f\"}, \"baxis\": {\"endlinecolor\": \"#2a3f5f\", \"gridcolor\": \"white\", \"linecolor\": \"white\", \"minorgridcolor\": \"white\", \"startlinecolor\": \"#2a3f5f\"}, \"type\": \"carpet\"}], \"choropleth\": [{\"colorbar\": {\"outlinewidth\": 0, \"ticks\": \"\"}, \"type\": \"choropleth\"}], \"contour\": [{\"colorbar\": {\"outlinewidth\": 0, \"ticks\": \"\"}, \"colorscale\": [[0.0, \"#0d0887\"], [0.1111111111111111, \"#46039f\"], [0.2222222222222222, \"#7201a8\"], [0.3333333333333333, \"#9c179e\"], [0.4444444444444444, \"#bd3786\"], [0.5555555555555556, \"#d8576b\"], [0.6666666666666666, \"#ed7953\"], [0.7777777777777778, \"#fb9f3a\"], [0.8888888888888888, \"#fdca26\"], [1.0, \"#f0f921\"]], \"type\": \"contour\"}], \"contourcarpet\": [{\"colorbar\": {\"outlinewidth\": 0, \"ticks\": \"\"}, \"type\": \"contourcarpet\"}], \"heatmap\": [{\"colorbar\": {\"outlinewidth\": 0, \"ticks\": \"\"}, \"colorscale\": [[0.0, \"#0d0887\"], [0.1111111111111111, \"#46039f\"], [0.2222222222222222, \"#7201a8\"], [0.3333333333333333, \"#9c179e\"], [0.4444444444444444, \"#bd3786\"], [0.5555555555555556, \"#d8576b\"], [0.6666666666666666, \"#ed7953\"], [0.7777777777777778, \"#fb9f3a\"], [0.8888888888888888, \"#fdca26\"], [1.0, \"#f0f921\"]], \"type\": \"heatmap\"}], \"heatmapgl\": [{\"colorbar\": {\"outlinewidth\": 0, \"ticks\": \"\"}, \"colorscale\": [[0.0, \"#0d0887\"], [0.1111111111111111, \"#46039f\"], [0.2222222222222222, \"#7201a8\"], [0.3333333333333333, \"#9c179e\"], [0.4444444444444444, \"#bd3786\"], [0.5555555555555556, \"#d8576b\"], [0.6666666666666666, \"#ed7953\"], [0.7777777777777778, \"#fb9f3a\"], [0.8888888888888888, \"#fdca26\"], [1.0, \"#f0f921\"]], \"type\": \"heatmapgl\"}], \"histogram\": [{\"marker\": {\"colorbar\": {\"outlinewidth\": 0, \"ticks\": \"\"}}, \"type\": \"histogram\"}], \"histogram2d\": [{\"colorbar\": {\"outlinewidth\": 0, \"ticks\": \"\"}, \"colorscale\": [[0.0, \"#0d0887\"], [0.1111111111111111, \"#46039f\"], [0.2222222222222222, \"#7201a8\"], [0.3333333333333333, \"#9c179e\"], [0.4444444444444444, \"#bd3786\"], [0.5555555555555556, \"#d8576b\"], [0.6666666666666666, \"#ed7953\"], [0.7777777777777778, \"#fb9f3a\"], [0.8888888888888888, \"#fdca26\"], [1.0, \"#f0f921\"]], \"type\": \"histogram2d\"}], \"histogram2dcontour\": [{\"colorbar\": {\"outlinewidth\": 0, \"ticks\": \"\"}, \"colorscale\": [[0.0, \"#0d0887\"], [0.1111111111111111, \"#46039f\"], [0.2222222222222222, \"#7201a8\"], [0.3333333333333333, \"#9c179e\"], [0.4444444444444444, \"#bd3786\"], [0.5555555555555556, \"#d8576b\"], [0.6666666666666666, \"#ed7953\"], [0.7777777777777778, \"#fb9f3a\"], [0.8888888888888888, \"#fdca26\"], [1.0, \"#f0f921\"]], \"type\": \"histogram2dcontour\"}], \"mesh3d\": [{\"colorbar\": {\"outlinewidth\": 0, \"ticks\": \"\"}, \"type\": \"mesh3d\"}], \"parcoords\": [{\"line\": {\"colorbar\": {\"outlinewidth\": 0, \"ticks\": \"\"}}, \"type\": \"parcoords\"}], \"pie\": [{\"automargin\": true, \"type\": \"pie\"}], \"scatter\": [{\"marker\": {\"colorbar\": {\"outlinewidth\": 0, \"ticks\": \"\"}}, \"type\": \"scatter\"}], \"scatter3d\": [{\"line\": {\"colorbar\": {\"outlinewidth\": 0, \"ticks\": \"\"}}, \"marker\": {\"colorbar\": {\"outlinewidth\": 0, \"ticks\": \"\"}}, \"type\": \"scatter3d\"}], \"scattercarpet\": [{\"marker\": {\"colorbar\": {\"outlinewidth\": 0, \"ticks\": \"\"}}, \"type\": \"scattercarpet\"}], \"scattergeo\": [{\"marker\": {\"colorbar\": {\"outlinewidth\": 0, \"ticks\": \"\"}}, \"type\": \"scattergeo\"}], \"scattergl\": [{\"marker\": {\"colorbar\": {\"outlinewidth\": 0, \"ticks\": \"\"}}, \"type\": \"scattergl\"}], \"scattermapbox\": [{\"marker\": {\"colorbar\": {\"outlinewidth\": 0, \"ticks\": \"\"}}, \"type\": \"scattermapbox\"}], \"scatterpolar\": [{\"marker\": {\"colorbar\": {\"outlinewidth\": 0, \"ticks\": \"\"}}, \"type\": \"scatterpolar\"}], \"scatterpolargl\": [{\"marker\": {\"colorbar\": {\"outlinewidth\": 0, \"ticks\": \"\"}}, \"type\": \"scatterpolargl\"}], \"scatterternary\": [{\"marker\": {\"colorbar\": {\"outlinewidth\": 0, \"ticks\": \"\"}}, \"type\": \"scatterternary\"}], \"surface\": [{\"colorbar\": {\"outlinewidth\": 0, \"ticks\": \"\"}, \"colorscale\": [[0.0, \"#0d0887\"], [0.1111111111111111, \"#46039f\"], [0.2222222222222222, \"#7201a8\"], [0.3333333333333333, \"#9c179e\"], [0.4444444444444444, \"#bd3786\"], [0.5555555555555556, \"#d8576b\"], [0.6666666666666666, \"#ed7953\"], [0.7777777777777778, \"#fb9f3a\"], [0.8888888888888888, \"#fdca26\"], [1.0, \"#f0f921\"]], \"type\": \"surface\"}], \"table\": [{\"cells\": {\"fill\": {\"color\": \"#EBF0F8\"}, \"line\": {\"color\": \"white\"}}, \"header\": {\"fill\": {\"color\": \"#C8D4E3\"}, \"line\": {\"color\": \"white\"}}, \"type\": \"table\"}]}, \"layout\": {\"annotationdefaults\": {\"arrowcolor\": \"#2a3f5f\", \"arrowhead\": 0, \"arrowwidth\": 1}, \"coloraxis\": {\"colorbar\": {\"outlinewidth\": 0, \"ticks\": \"\"}}, \"colorscale\": {\"diverging\": [[0, \"#8e0152\"], [0.1, \"#c51b7d\"], [0.2, \"#de77ae\"], [0.3, \"#f1b6da\"], [0.4, \"#fde0ef\"], [0.5, \"#f7f7f7\"], [0.6, \"#e6f5d0\"], [0.7, \"#b8e186\"], [0.8, \"#7fbc41\"], [0.9, \"#4d9221\"], [1, \"#276419\"]], \"sequential\": [[0.0, \"#0d0887\"], [0.1111111111111111, \"#46039f\"], [0.2222222222222222, \"#7201a8\"], [0.3333333333333333, \"#9c179e\"], [0.4444444444444444, \"#bd3786\"], [0.5555555555555556, \"#d8576b\"], [0.6666666666666666, \"#ed7953\"], [0.7777777777777778, \"#fb9f3a\"], [0.8888888888888888, \"#fdca26\"], [1.0, \"#f0f921\"]], \"sequentialminus\": [[0.0, \"#0d0887\"], [0.1111111111111111, \"#46039f\"], [0.2222222222222222, \"#7201a8\"], [0.3333333333333333, \"#9c179e\"], [0.4444444444444444, \"#bd3786\"], [0.5555555555555556, \"#d8576b\"], [0.6666666666666666, \"#ed7953\"], [0.7777777777777778, \"#fb9f3a\"], [0.8888888888888888, \"#fdca26\"], [1.0, \"#f0f921\"]]}, \"colorway\": [\"#636efa\", \"#EF553B\", \"#00cc96\", \"#ab63fa\", \"#FFA15A\", \"#19d3f3\", \"#FF6692\", \"#B6E880\", \"#FF97FF\", \"#FECB52\"], \"font\": {\"color\": \"#2a3f5f\"}, \"geo\": {\"bgcolor\": \"white\", \"lakecolor\": \"white\", \"landcolor\": \"#E5ECF6\", \"showlakes\": true, \"showland\": true, \"subunitcolor\": \"white\"}, \"hoverlabel\": {\"align\": \"left\"}, \"hovermode\": \"closest\", \"mapbox\": {\"style\": \"light\"}, \"paper_bgcolor\": \"white\", \"plot_bgcolor\": \"#E5ECF6\", \"polar\": {\"angularaxis\": {\"gridcolor\": \"white\", \"linecolor\": \"white\", \"ticks\": \"\"}, \"bgcolor\": \"#E5ECF6\", \"radialaxis\": {\"gridcolor\": \"white\", \"linecolor\": \"white\", \"ticks\": \"\"}}, \"scene\": {\"xaxis\": {\"backgroundcolor\": \"#E5ECF6\", \"gridcolor\": \"white\", \"gridwidth\": 2, \"linecolor\": \"white\", \"showbackground\": true, \"ticks\": \"\", \"zerolinecolor\": \"white\"}, \"yaxis\": {\"backgroundcolor\": \"#E5ECF6\", \"gridcolor\": \"white\", \"gridwidth\": 2, \"linecolor\": \"white\", \"showbackground\": true, \"ticks\": \"\", \"zerolinecolor\": \"white\"}, \"zaxis\": {\"backgroundcolor\": \"#E5ECF6\", \"gridcolor\": \"white\", \"gridwidth\": 2, \"linecolor\": \"white\", \"showbackground\": true, \"ticks\": \"\", \"zerolinecolor\": \"white\"}}, \"shapedefaults\": {\"line\": {\"color\": \"#2a3f5f\"}}, \"ternary\": {\"aaxis\": {\"gridcolor\": \"white\", \"linecolor\": \"white\", \"ticks\": \"\"}, \"baxis\": {\"gridcolor\": \"white\", \"linecolor\": \"white\", \"ticks\": \"\"}, \"bgcolor\": \"#E5ECF6\", \"caxis\": {\"gridcolor\": \"white\", \"linecolor\": \"white\", \"ticks\": \"\"}}, \"title\": {\"x\": 0.05}, \"xaxis\": {\"automargin\": true, \"gridcolor\": \"white\", \"linecolor\": \"white\", \"ticks\": \"\", \"title\": {\"standoff\": 15}, \"zerolinecolor\": \"white\", \"zerolinewidth\": 2}, \"yaxis\": {\"automargin\": true, \"gridcolor\": \"white\", \"linecolor\": \"white\", \"ticks\": \"\", \"title\": {\"standoff\": 15}, \"zerolinecolor\": \"white\", \"zerolinewidth\": 2}}}},\n",
              "                        {\"responsive\": true}\n",
              "                    ).then(function(){\n",
              "                            \n",
              "var gd = document.getElementById('2b9dd156-2802-42fc-8ba1-672509f83cb5');\n",
              "var x = new MutationObserver(function (mutations, observer) {{\n",
              "        var display = window.getComputedStyle(gd).display;\n",
              "        if (!display || display === 'none') {{\n",
              "            console.log([gd, 'removed!']);\n",
              "            Plotly.purge(gd);\n",
              "            observer.disconnect();\n",
              "        }}\n",
              "}});\n",
              "\n",
              "// Listen for the removal of the full notebook cells\n",
              "var notebookContainer = gd.closest('#notebook-container');\n",
              "if (notebookContainer) {{\n",
              "    x.observe(notebookContainer, {childList: true});\n",
              "}}\n",
              "\n",
              "// Listen for the clearing of the current output cell\n",
              "var outputEl = gd.closest('.output');\n",
              "if (outputEl) {{\n",
              "    x.observe(outputEl, {childList: true});\n",
              "}}\n",
              "\n",
              "                        })\n",
              "                };\n",
              "                \n",
              "            </script>\n",
              "        </div>\n",
              "</body>\n",
              "</html>"
            ]
          },
          "metadata": {}
        }
      ]
    },
    {
      "cell_type": "markdown",
      "metadata": {
        "id": "-r0h99Mo9dGD"
      },
      "source": [
        "### Function to preprocess the files in the document cluster before passing them into the MMR summarizer system. Here the sentences of the document cluster are modelled as sentences after extracting from the files in the folder path."
      ]
    },
    {
      "cell_type": "code",
      "metadata": {
        "id": "3mIpEsd78c6d",
        "cellView": "form"
      },
      "source": [
        "#@title\n",
        "#---------------------------------------------------------------------------------\n",
        "# Description\t: Function to preprocess the files in the document cluster before\n",
        "#\t\t\t\t  passing them into the MMR summarizer system. Here the sentences\n",
        "#\t\t\t\t  of the document cluster are modelled as sentences after extracting\n",
        "#\t\t\t\t  from the files in the folder path. \n",
        "# Parameters\t: file_name, name of the file in the document cluster\n",
        "# Return \t\t: list of sentence object\n",
        "#---------------------------------------------------------------------------------\n",
        "def processFile(file_name):\n",
        "\n",
        "    # read file from provided folder path\n",
        "    f = open(file_name,'r')\n",
        "    text_0 = f.read()\n",
        "\n",
        "    # replace all types of quotations by normal quotes\n",
        "    text_1 = re.sub(\"\\n\",\" \",text_0)\n",
        "\n",
        "    text_1 = re.sub(\"\\\"\",\"\\\"\",text_1)\n",
        "    text_1 = re.sub(\"''\",\"\\\"\",text_1)\n",
        "    text_1 = re.sub(\"``\",\"\\\"\",text_1)\n",
        "\n",
        "    text_1 = re.sub(\" +\",\" \",text_1)\n",
        "\n",
        "    # segment data into a list of sentences\n",
        "    sentence_token = nltk.data.load('tokenizers/punkt/english.pickle')\n",
        "    lines = sentence_token.tokenize(text_1.strip())\n",
        "\n",
        "\n",
        "    # setting the stemmer\n",
        "    sentences = []\n",
        "    porter = nltk.PorterStemmer()\n",
        "\n",
        "    # modelling each sentence in file as sentence object\n",
        "    for line in lines:\n",
        "\n",
        "        # original words of the sentence before stemming\n",
        "        originalWords = line[:]\n",
        "        line = line.strip().lower()\n",
        "\n",
        "        # word tokenization\n",
        "        sent = nltk.word_tokenize(line)\n",
        "\n",
        "        # stemming words\n",
        "        stemmedSent = [porter.stem(word) for word in sent]\n",
        "        stemmedSent = list(filter(lambda x: x!='.'and x!='`'and x!=','and x!='?'and x!=\"'\"\n",
        "            and x!='!' and x!='''\"''' and x!=\"''\" and x!=\"'s\", stemmedSent))\n",
        "        # list of sentence objects\n",
        "\n",
        "        if stemmedSent != []:\n",
        "            sentences.append(sentence(file_name, stemmedSent, originalWords))\n",
        "\n",
        "    return sentences"
      ],
      "execution_count": 263,
      "outputs": []
    },
    {
      "cell_type": "markdown",
      "metadata": {
        "id": "v9VH4UMpA-OU"
      },
      "source": [
        "### Function to return lines to calculate the overall length and for input to RAKE"
      ]
    },
    {
      "cell_type": "code",
      "metadata": {
        "id": "VzkJWJsoA9KI",
        "cellView": "form"
      },
      "source": [
        "#@title\n",
        "def returnLines(file_name):\n",
        "\n",
        "    # read file from provided folder path\n",
        "\n",
        "    f = open(file_name,'r')\n",
        "    text_0 = f.read()\n",
        "    # extract content in TEXT tag and remove tags\n",
        "    #-------------commented --------------\n",
        "    # text_1 = re.search(r\"<TEXT>.*</TEXT>\",text_0, re.DOTALL)\n",
        "    # text_1 = re.sub(\"<TEXT>\\n\",\"\",text_1.group(0))\n",
        "    # text_1 = re.sub(\"\\n</TEXT>\",\"\",text_1)\n",
        "\n",
        "    # replace all types of quotations by normal quotes\n",
        "    text_1 = re.sub(\"\\n\",\" \",text_0)\n",
        "\n",
        "    text_1 = re.sub(\"\\\"\",\"\\\"\",text_1)\n",
        "    text_1 = re.sub(\"''\",\"\\\"\",text_1)\n",
        "    text_1 = re.sub(\"``\",\"\\\"\",text_1)\n",
        "\n",
        "    text_1 = re.sub(\" +\",\" \",text_1)\n",
        "\n",
        "    # segment data into a list of sentences\n",
        "    sentence_token = nltk.data.load('tokenizers/punkt/english.pickle')\n",
        "    lines = sentence_token.tokenize(text_1.strip())\n",
        "\n",
        "\n",
        "    return lines"
      ],
      "execution_count": null,
      "outputs": []
    },
    {
      "cell_type": "markdown",
      "metadata": {
        "id": "aL2Xk09nBMkP"
      },
      "source": [
        "### Function to find the term frequencies of the words in the sentences present in the provided document cluster"
      ]
    },
    {
      "cell_type": "code",
      "metadata": {
        "id": "6J-QTZb_BM8X",
        "cellView": "form"
      },
      "source": [
        "#@title\n",
        "#---------------------------------------------------------------------------------\n",
        "# Description\t: Function to find the term frequencies of the words in the\n",
        "#\t\t\t\t  sentences present in the provided document cluster\n",
        "# Parameters\t: sentences, sentences of the document cluster\n",
        "# Return \t\t: dictonary of word, term frequency score\n",
        "#---------------------------------------------------------------------------------\n",
        "def TFs(sentences):\n",
        "    # initialize tfs dictonary\n",
        "    tfs = {}\n",
        "\n",
        "    # for every sentence in document cluster\n",
        "    for sent in sentences:\n",
        "        # retrieve word frequencies from sentence object\n",
        "        wordFreqs = sent.getWordFreq()\n",
        "\n",
        "        # for every word\n",
        "        for word in wordFreqs.keys():\n",
        "            # if word already present in the dictonary\n",
        "            if tfs.get(word, 0) != 0:\n",
        "                tfs[word] = tfs[word] + wordFreqs[word]\n",
        "            # else if word is being added for the first time\n",
        "            else:\n",
        "                tfs[word] = wordFreqs[word]\n",
        "    return tfs"
      ],
      "execution_count": null,
      "outputs": []
    },
    {
      "cell_type": "markdown",
      "metadata": {
        "id": "GreSYi0hBW4j"
      },
      "source": [
        "### Function to find the inverse document frequencies of the words in the sentences present in the provided document cluster"
      ]
    },
    {
      "cell_type": "code",
      "metadata": {
        "id": "s14SkpXvBXCf",
        "cellView": "form"
      },
      "source": [
        "#@title\n",
        "#---------------------------------------------------------------------------------\n",
        "# Description\t: Function to find the inverse document frequencies of the words in\n",
        "#\t\t\t\t  the sentences present in the provided document cluster \n",
        "# Parameters\t: sentences, sentences of the document cluster\n",
        "# Return \t\t: dictonary of word, inverse document frequency score\n",
        "#---------------------------------------------------------------------------------\n",
        "def IDFs(sentences):\n",
        "    N = len(sentences)\n",
        "    idf = 0\n",
        "    idfs = {}\n",
        "    words = {}\n",
        "    w2 = []\n",
        "    # every sentence in our cluster\n",
        "    for sent in sentences:\n",
        "        # every word in a sentence\n",
        "        # wordpre = sent.getPreProWords()\n",
        "        for word in sent.getPreProWords():\n",
        "        # for word in wordpre.keys():\n",
        "\n",
        "            # not to calculate a word's IDF value more than once\n",
        "            if sent.getWordFreq().get(word, 0) != 0:\n",
        "                words[word] = words.get(word, 0)+ 1\n",
        "\n",
        "    # for each word in words\n",
        "    for word in words:\n",
        "        n = words[word]\n",
        "        \n",
        "        # avoid zero division errors\n",
        "        try:\n",
        "            w2.append(n)\n",
        "            idf = math.log10(float(N)/n)\n",
        "        except ZeroDivisionError:\n",
        "            idf = 0\n",
        "                \n",
        "        # reset variables\n",
        "        idfs[word] = idf\n",
        "    return idfs"
      ],
      "execution_count": null,
      "outputs": []
    },
    {
      "cell_type": "markdown",
      "metadata": {
        "id": "9Brjt-PDBiu_"
      },
      "source": [
        "### Function to find TF-IDF score of the words in the document cluster"
      ]
    },
    {
      "cell_type": "code",
      "metadata": {
        "id": "XnPVai8EBi6V",
        "cellView": "form"
      },
      "source": [
        "#@title\n",
        "#---------------------------------------------------------------------------------\n",
        "# Description\t: Function to find TF-IDF score of the words in the document cluster\n",
        "# Parameters\t: sentences, sentences of the document cluster\n",
        "# Return \t\t: dictonary of word, TF-IDF score\n",
        "#---------------------------------------------------------------------------------\n",
        "def TF_IDF(sentences):\n",
        "    # Method variables\n",
        "    tfs = TFs(sentences)\n",
        "    idfs = IDFs(sentences)\n",
        "    retval = {}\n",
        "\n",
        "    # for every word\n",
        "    for word in tfs:\n",
        "        #calculate every word's tf-idf score\n",
        "        tf_idfs=  tfs[word] * idfs[word]\n",
        "        \n",
        "        # add word and its tf-idf score to dictionary\n",
        "        if retval.get(tf_idfs, None) == None:\n",
        "            retval[tf_idfs] = [word]\n",
        "        else:\n",
        "            retval[tf_idfs].append(word)\n",
        "\n",
        "    return retval"
      ],
      "execution_count": null,
      "outputs": []
    },
    {
      "cell_type": "markdown",
      "metadata": {
        "id": "vxxAUTA9ByyW"
      },
      "source": [
        "### Function to find the sentence similarity for a pair of sentences by calculating cosine similarity"
      ]
    },
    {
      "cell_type": "code",
      "metadata": {
        "id": "o3WegqDEBpMs",
        "cellView": "form"
      },
      "source": [
        "#@title\n",
        "#---------------------------------------------------------------------------------\n",
        "# Description\t: Function to find the sentence similarity for a pair of sentences\n",
        "#\t\t\t\t  by calculating cosine similarity\n",
        "# Parameters\t: sentence1, first sentence\n",
        "#\t\t\t\t  sentence2, second sentence to which first sentence has to be compared\n",
        "#\t\t\t\t  IDF_w, dictinoary of IDF scores of words in the document cluster\n",
        "# Return \t\t: cosine similarity score\n",
        "#---------------------------------------------------------------------------------\n",
        "def sentenceSim(sentence1, sentence2, IDF_w):\n",
        "    numerator = 0\n",
        "    denominator = 0\n",
        "    denominator1 = 0\n",
        "\n",
        "    for word in sentence2.getPreProWords():\n",
        "        numerator+= sentence1.getWordFreq().get(word,0) * sentence2.getWordFreq().get(word,0) *  IDF_w.get(word,0) ** 2\n",
        "\n",
        "    for word in sentence1.getPreProWords():\n",
        "        denominator+= ( sentence1.getWordFreq().get(word,0) * IDF_w.get(word,0) ) ** 2\n",
        "\n",
        "    for word in sentence2.getPreProWords():\n",
        "        denominator1+= ( sentence2.getWordFreq().get(word,0) * IDF_w.get(word,0) ) ** 2\n",
        "\n",
        "    # check for divide by zero cases and return back minimal similarity\n",
        "    try:\n",
        "        return numerator / (math.sqrt(denominator) * math.sqrt(denominator1))\n",
        "    except ZeroDivisionError:\n",
        "        return float(\"-inf\")"
      ],
      "execution_count": null,
      "outputs": []
    },
    {
      "cell_type": "markdown",
      "metadata": {
        "id": "M8ge0nqPqe-t"
      },
      "source": [
        "### KeyWord Extraction using RAKE"
      ]
    },
    {
      "cell_type": "code",
      "metadata": {
        "id": "w4E4N7gYOlRQ"
      },
      "source": [
        "#---------------------------------------------------------------------------------\n",
        "# Description\t: Function to retrieve the KeyWords using RAKE and it's frequency\n",
        "# Parameters\t: sentences\n",
        "# Return \t\t: Kewords, Frequency\n",
        "#---------------------------------------------------------------------------------\n",
        "def rakeQuery(lines):\n",
        "    linestring = \" \"\n",
        "    for line in lines:\n",
        "        linestring = linestring + \" \" + line + \" \"\n",
        "    text = linestring\n",
        "    r = Rake(ranking_metric=Metric.WORD_FREQUENCY)\n",
        "    r.extract_keywords_from_text(text)\n",
        "    # Rp = r.get_ranked_phrases_with_scores()\n",
        "    Rp = r.get_word_frequency_distribution()\n",
        "    return Rp"
      ],
      "execution_count": null,
      "outputs": []
    },
    {
      "cell_type": "markdown",
      "metadata": {
        "id": "tw0uzuHLGnwQ"
      },
      "source": [
        "## Function to find the best sentence in reference to the query"
      ]
    },
    {
      "cell_type": "code",
      "metadata": {
        "id": "GdolPGJWGiWw"
      },
      "source": [
        "#---------------------------------------------------------------------------------\n",
        "# Description\t: Function to find the best sentence in reference to the query\n",
        "# Parameters\t: sentences, sentences of the document cluster\n",
        "#\t\t\t\t  query, reference query\n",
        "#\t\t\t\t  IDF, IDF value of words of the document cluster\n",
        "# Return \t\t: best sentence among the sentences in the document cluster\n",
        "#---------------------------------------------------------------------------------\n",
        "def bestSentence(sentences, query, IDF):\n",
        "    best_sentence = None\n",
        "    maxVal = float(\"-inf\")\n",
        "    for sent in sentences:\n",
        "        similarity = sentenceSim(sent, query, IDF)\n",
        "\n",
        "        if similarity > maxVal:\n",
        "            best_sentence = sent\n",
        "            maxVal = similarity\n",
        "    sentences.remove(best_sentence)\n",
        "    return best_sentence"
      ],
      "execution_count": 198,
      "outputs": []
    },
    {
      "cell_type": "markdown",
      "metadata": {
        "id": "-QdZSZb9Gx1S"
      },
      "source": [
        "# Function to create the summary set of a desired number of words"
      ]
    },
    {
      "cell_type": "code",
      "metadata": {
        "id": "1wtYCMZlGxBm"
      },
      "source": [
        "#---------------------------------------------------------------------------------\n",
        "# Description\t: Function to create the summary set of a desired number of words \n",
        "# Parameters\t: sentences, sentences of the document cluster\n",
        "#\t\t\t\t  best_sentnece, best sentence in the document cluster\n",
        "#\t\t\t\t  query, reference query for the document cluster\n",
        "#\t\t\t\t  summary_length, desired number of words for the summary\n",
        "#\t\t\t\t  labmta, lambda value of the MMR score calculation formula\n",
        "#\t\t\t\t  IDF, IDF value of words in the document cluster \n",
        "# Return \t\t: name \n",
        "#---------------------------------------------------------------------------------\n",
        "def makeSummary(sentences, best_sentence, query, summary_length, lambta, IDF):\t\n",
        "    summary = [best_sentence]\n",
        "    # print(best_sentence.getPreProWords())\n",
        "    # print('summary',summary)\n",
        "    # sum_len = len(best_sentence.getPreProWords())\n",
        "    # print('sum_len',sum_len)\n",
        "    MMRval={}\n",
        "    dff = pd.DataFrame()\n",
        "    sentRan = []\n",
        "    mmrScr = []\n",
        "    # keeping adding sentences until number of words exceeds summary length\n",
        "    # while (sum_len < summary_length):\n",
        "    MMRval={}\n",
        "\n",
        "    for sent in sentences:\n",
        "        MMRval[sent] = MMRScore(sent, query, summary, lambta, IDF)\n",
        "    # maxxer = max(MMRval, key=MMRval.get)\n",
        "    # summary.append(maxxer)\n",
        "    # sentences.remove(maxxer)\n",
        "    # sum_len += len(maxxer.getPreProWords())\n",
        "    for j in MMRval:\n",
        "      if len(j.getOriginalWords()) >14:\n",
        "        sentRan.append(j.getOriginalWords())\n",
        "        mmrScr.append(MMRval[j])\n",
        "    dff['sent'] = sentRan\n",
        "    dff['score'] = mmrScr\n",
        "    dff = dff.sort_values(by=['score'])\n",
        "    fig = go.Figure(data=[go.Table(columnwidth = [360,60],header=dict(values=['Sentence', 'MMR Score'],align='left'),\n",
        "                 cells=dict(values=[dff.sent,dff.score], align='left'))\n",
        "                     ])\n",
        "    fig.show()\n",
        "    return summary"
      ],
      "execution_count": 397,
      "outputs": []
    },
    {
      "cell_type": "markdown",
      "metadata": {
        "id": "5s2hhNyvG5zM"
      },
      "source": [
        "## Function to calculate the MMR score given a sentence, the query and the current best set of sentences"
      ]
    },
    {
      "cell_type": "code",
      "metadata": {
        "id": "XSgB1ef-G4bb"
      },
      "source": [
        "#---------------------------------------------------------------------------------\n",
        "# Description\t: Function to calculate the MMR score given a sentence, the query\n",
        "#\t\t\t\t  and the current best set of sentences\n",
        "# Parameters\t: Si, particular sentence for which the MMR score has to be calculated\n",
        "#\t\t\t\t  query, query sentence for the particualr document cluster\n",
        "#\t\t\t\t  Sj, the best sentences that are already selected\n",
        "#\t\t\t\t  lambta, lambda value in the MMR formula\n",
        "#\t\t\t\t  IDF, IDF value for words in the cluster\n",
        "# Return \t\t: name \n",
        "#---------------------------------------------------------------------------------\n",
        "def MMRScore(Si, query, Sj, lambta, IDF):\t\n",
        "    Sim1 = sentenceSim(Si, query, IDF)\n",
        "    l_expr = lambta * Sim1\n",
        "    value = [float(\"-inf\")]\n",
        "    if len(bsent) > 0:\n",
        "      for sent in Sj:\n",
        "          Sim2 = sentenceSim(Si, sent, IDF)\n",
        "          value.append(Sim2)\n",
        "\n",
        "      r_expr = (1-lambta) * max(value)\n",
        "      MMRScore = l_expr - r_expr\n",
        "    else:\n",
        "      MMRScore = l_expr\n",
        "\n",
        "    return MMRScore"
      ],
      "execution_count": 381,
      "outputs": []
    },
    {
      "cell_type": "markdown",
      "metadata": {
        "id": "WF8gtO4_6QCg"
      },
      "source": [
        "### Function to prepare User selected summary sentence for MMR scoring function"
      ]
    },
    {
      "cell_type": "code",
      "metadata": {
        "id": "8bh5dhWI6XQE"
      },
      "source": [
        "#---------------------------------------------------------------------------------\n",
        "# Description\t: Function to prepare User selected summary sentence for MMR scoring function\n",
        "# Parameters\t: sentences\n",
        "# Return \t\t: Sentence Object\n",
        "#---------------------------------------------------------------------------------\n",
        "def bestSenPrep(senta):\n",
        "  sentence_token = nltk.data.load('tokenizers/punkt/english.pickle')\n",
        "  lines = sentence_token.tokenize(senta.strip())\n",
        "  # setting the stemmer\n",
        "  sentences = []\n",
        "  porter = nltk.PorterStemmer()\n",
        "  # modelling each sentence in file as sentence object\n",
        "  for line in lines:\n",
        "  # original words of the sentence before stemming\n",
        "      originalWords = line[:]\n",
        "      line = line.strip().lower()\n",
        "      # word tokenization\n",
        "      sent = nltk.word_tokenize(line)\n",
        "      # stemming words\n",
        "      stemmedSent = [porter.stem(word) for word in sent]\n",
        "      stemmedSent = list(filter(lambda x: x!='.'and x!='`'and x!=','and x!='?'and x!=\"'\"\n",
        "          and x!='!' and x!='''\"''' and x!=\"''\" and x!=\"'s\", stemmedSent))\n",
        "      # list of sentence objects\n",
        "      if stemmedSent != []:\n",
        "          sentences.append(sentence(input_file_path, stemmedSent, originalWords))\n",
        "  return sentences"
      ],
      "execution_count": 410,
      "outputs": []
    },
    {
      "cell_type": "markdown",
      "metadata": {
        "id": "N-f451zc8JeV"
      },
      "source": [
        "### Sentence class to store setences from the individual files in the document cluster.\n",
        "\n"
      ]
    },
    {
      "cell_type": "code",
      "metadata": {
        "id": "rnzLgZqY8E23",
        "cellView": "form"
      },
      "source": [
        "#@title\n",
        "#----------------------------------------------------------------------------------\n",
        "# Description:\tSentence class to store setences from the individual files in the\n",
        "#\t\t\t\tdocument cluster.\n",
        "#----------------------------------------------------------------------------------\n",
        "\n",
        "from nltk.corpus import stopwords\n",
        "\n",
        "class sentence(object):\n",
        "\n",
        "\t#------------------------------------------------------------------------------\n",
        "\t# Description\t: Constructor to initialize the setence object\n",
        "\t# Parameters  \t: docName, name of the document/file\n",
        "\t#\t\t\t\t  preproWords, words of the file after the stemming process\n",
        "\t#\t\t\t\t  originalWords, actual words before stemming\n",
        "\t# Return \t\t: None\n",
        "\t#------------------------------------------------------------------------------\n",
        "\tdef __init__(self, docName, preproWords, originalWords):\n",
        "\t\tself.docName = docName\n",
        "\t\tself.preproWords = preproWords\n",
        "\t\tself.wordFrequencies = self.sentenceWordFreq()\n",
        "\t\tself.originalWords = originalWords\n",
        "\n",
        "\t#------------------------------------------------------------------------------\n",
        "\t# Description\t: Function to return the name of the document\n",
        "\t# Parameters\t: None\n",
        "\t# Return \t\t: name of the document\n",
        "\t#------------------------------------------------------------------------------\n",
        "\tdef getDocName(self):\n",
        "\t\treturn self.docName\n",
        "\t\n",
        "\t#------------------------------------------------------------------------------\n",
        "\t# Description\t: Function to return the stemmed words\n",
        "\t# Parameters\t: None\n",
        "\t# Return \t\t: stemmed words of the sentence\n",
        "\t#------------------------------------------------------------------------------\n",
        "\tdef getPreProWords(self):\n",
        "\t\treturn self.preproWords\n",
        "\t\n",
        "\t#------------------------------------------------------------------------------\n",
        "\t# Description\t: Function to return the original words of the sentence before\n",
        "\t#\t\t\t\t  stemming\n",
        "\t# Parameters\t: None\n",
        "\t# Return \t\t: pre-stemmed words\n",
        "\t#------------------------------------------------------------------------------\n",
        "\tdef getOriginalWords(self):\n",
        "\t\treturn self.originalWords\n",
        "\n",
        "\t#------------------------------------------------------------------------------\n",
        "\t# Description\t: Function to return a dictonary of the word frequencies for\n",
        "\t#\t\t\t\t  the particular sentence object\n",
        "\t# Parameters\t: None\n",
        "\t# Return \t\t: dictionar of word frequencies\n",
        "\t#------------------------------------------------------------------------------\n",
        "\tdef getWordFreq(self):\n",
        "\t\treturn self.wordFrequencies\t\n",
        "\t\n",
        "\t#------------------------------------------------------------------------------\n",
        "\t# Description\t: Function to create a dictonary of word frequencies for the\n",
        "\t#\t\t\t\t  sentence object\n",
        "\t# Parameters\t: None\n",
        "\t# Return \t\t: dictionar of word frequencies\n",
        "\t#------------------------------------------------------------------------------\n",
        "\tdef sentenceWordFreq(self):\n",
        "\t\twordFreq = {}\n",
        "\t\tfor word in self.preproWords:\n",
        "\t\t\tif word not in wordFreq.keys():\n",
        "\t\t\t\twordFreq[word] = 1\n",
        "\t\t\telse:\n",
        "\t\t\t\t# if word in stopwords.words('english'):\n",
        "\t\t\t\t# \twordFreq[word] = 1\n",
        "\t\t\t\t# else:\t\t\t\n",
        "\t\t\t\twordFreq[word] = wordFreq[word] + 1\n",
        "\t\treturn wordFreq"
      ],
      "execution_count": null,
      "outputs": []
    }
  ]
}